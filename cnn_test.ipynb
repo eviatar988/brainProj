{
 "cells": [
  {
   "cell_type": "code",
   "execution_count": 1,
   "metadata": {
    "ExecuteTime": {
     "end_time": "2024-06-16T14:57:17.114145100Z",
     "start_time": "2024-06-16T14:57:15.476595400Z"
    }
   },
   "source": [
    "import math\n",
    "import os.path as op\n",
    "import mne_bids\n",
    "from mne.datasets import sample\n",
    "import data_extracts\n",
    "from patients_matrix import PatientsMatrix\n",
    "from coherence_matrix import CoherenceMatrix\n",
    "from matplotlib import pyplot as plt\n",
    "import numpy as np\n",
    "from scipy.stats import levene, gaussian_kde\n",
    "from scipy.stats import anderson\n",
    "import scipy.stats as stats\n",
    "import test1\n",
    "from data_extracts import load_data\n",
    "from tqdm import tqdm"
   ],
   "outputs": []
  },
  {
   "cell_type": "code",
   "execution_count": 2,
   "metadata": {
    "ExecuteTime": {
     "end_time": "2024-06-16T14:57:17.114645Z",
     "start_time": "2024-06-16T14:57:17.100122200Z"
    }
   },
   "source": [
    "def show_me_matrix(matrix_flat, name):\n",
    "    matrix_len = int(math.sqrt(2*len(matrix_flat)+1/4)+1/2)\n",
    "    matrix = np.zeros(shape=(matrix_len,matrix_len),dtype=float)\n",
    "    index = 0\n",
    "    for i in range(matrix_len):\n",
    "        for j in range(i,matrix_len):\n",
    "            if i == j:\n",
    "                matrix[i, j] = 1\n",
    "            else:\n",
    "                matrix[i, j] = matrix_flat[index]\n",
    "                matrix[j, i] = matrix_flat[index]\n",
    "                index += 1\n",
    "    plt.imshow(matrix, cmap='viridis')\n",
    "    plt.title(name)\n",
    "    plt.colorbar()\n",
    "    plt.show()\n",
    "    \n",
    "    \n",
    "def creat_matrix(matrix_flat):\n",
    "    matrix_len = int(math.sqrt(2*len(matrix_flat)+1/4)+1/2)\n",
    "    matrix = np.zeros(shape=(matrix_len,matrix_len),dtype=float)\n",
    "    index = 0\n",
    "    for i in range(matrix_len):\n",
    "        for j in range(i,matrix_len):\n",
    "            if i == j:\n",
    "                matrix[i, j] = 1\n",
    "            else:\n",
    "                matrix[i, j] = matrix_flat[index]\n",
    "                matrix[j, i] = matrix_flat[index]\n",
    "                index += 1    \n",
    "    return matrix\n",
    "    "
   ],
   "outputs": []
  },
  {
   "cell_type": "code",
   "execution_count": 7,
   "metadata": {
    "ExecuteTime": {
     "end_time": "2024-06-16T15:17:16.649903900Z",
     "start_time": "2024-06-16T15:17:07.156627Z"
    }
   },
   "source": [
    "\n",
    "    "
   ],
   "outputs": []
  },
  {
   "cell_type": "code",
   "execution_count": 8,
   "metadata": {
    "ExecuteTime": {
     "end_time": "2024-06-16T15:22:21.248997800Z",
     "start_time": "2024-06-16T15:22:21.221096500Z"
    }
   },
   "source": [
    "\n",
    "import keras\n",
    "from keras import Sequential\n",
    "from keras import layers\n",
    "\n",
    "# Define the model\n",
    "model = Sequential([\n",
    "  # Input layer for 75x75 grayscale images (modify if your data has color channels)\n",
    "  layers.Input(shape=(77, 77, 1)),\n",
    "\n",
    "  # Convolutional layer with 32 filters, 3x3 kernel, ReLU activation\n",
    "  layers.Conv2D(32, kernel_size=(3, 3), activation=\"relu\"),\n",
    "\n",
    "  # Max pooling layer with 2x2 pool size\n",
    "  layers.MaxPooling2D(pool_size=(2, 2)),\n",
    "\n",
    "  # Convolutional layer with 64 filters, 3x3 kernel, ReLU activation\n",
    "  layers.Conv2D(64, kernel_size=(3, 3), activation=\"relu\"),\n",
    "\n",
    "  # Max pooling layer with 2x2 pool size\n",
    "  layers.MaxPooling2D(pool_size=(2, 2)),\n",
    "\n",
    "  # Flatten the output of the convolutional layers\n",
    "  layers.Flatten(),\n",
    "\n",
    "  # Dense layer with 128 neurons, ReLU activation\n",
    "  layers.Dense(128, activation=\"relu\"),\n",
    "\n",
    "  # Dropout layer to prevent overfitting (optional, adjust probability)\n",
    "  layers.Dropout(0.2),\n",
    "\n",
    "  # Output layer with 1 neuron for binary classification, sigmoid activation\n",
    "  layers.Dense(1, activation=\"sigmoid\")\n",
    "])\n",
    "\n",
    "# Compile the model\n",
    "model.compile(loss=\"binary_crossentropy\", optimizer=\"adam\", metrics=[\"accuracy\"])\n",
    "\n",
    "# Train the model (replace with your training data)\n",
    "\n",
    "model.summary()"
   ],
   "outputs": []
  },
  {
   "cell_type": "code",
   "execution_count": 5,
   "metadata": {
    "ExecuteTime": {
     "end_time": "2024-06-16T14:57:20.288692400Z",
     "start_time": "2024-06-16T14:57:19.675375800Z"
    }
   },
   "source": [
    "# Load the data\n",
    "from keras.src.legacy.preprocessing.image import ImageDataGenerator\n",
    "\n",
    "# Create an ImageDataGenerator object\n",
    "datagen = ImageDataGenerator(rescale=1./255)\n",
    "\n",
    "# Load and iterate over the training data\n",
    "train_data = datagen.flow_from_directory('cnn_test/train', target_size=(77, 77), color_mode='grayscale', class_mode='binary', batch_size=32)\n",
    "print(type(train_data))\n",
    "test_data = datagen.flow_from_directory('cnn_test/test', target_size=(77, 77), color_mode='grayscale', class_mode='binary', batch_size=32)\n",
    "\n",
    "model.fit(train_data, epochs=30)"
   ],
   "outputs": []
  },
  {
   "cell_type": "code",
   "execution_count": null,
   "metadata": {
    "ExecuteTime": {
     "end_time": "2024-06-16T14:57:20.289693100Z",
     "start_time": "2024-06-16T14:57:20.289193400Z"
    }
   },
   "source": [
    "# evaluate the model\n",
    "loss, acc = model.evaluate(test_data)\n",
    "print(\"Test accuracy\", acc)\n"
   ],
   "outputs": []
  },
  {
   "cell_type": "code",
   "source": [
    "\n",
    "from keras import layers, Model\n",
    "\n",
    "class CustomCNNModel(Model):\n",
    "    def __init__(self):\n",
    "        super(CustomCNNModel, self).__init__()\n",
    "        # Define layers in the constructor\n",
    "        self.conv1 = layers.Conv2D(32, kernel_size=(3, 3), activation=\"relu\", input_shape=(77, 77, 1))\n",
    "        self.pool1 = layers.MaxPooling2D(pool_size=(2, 2))\n",
    "        self.conv2 = layers.Conv2D(64, kernel_size=(3, 3), activation=\"relu\")\n",
    "        self.pool2 = layers.MaxPooling2D(pool_size=(2, 2))\n",
    "        self.flatten = layers.Flatten()\n",
    "        self.dense1 = layers.Dense(128, activation=\"relu\")\n",
    "        self.dropout = layers.Dropout(0.2)\n",
    "        self.dense2 = layers.Dense(1, activation=\"sigmoid\")\n",
    "    def call(self, inputs, training=False):\n",
    "        # Define the forward pass\n",
    "        x = self.conv1(inputs)\n",
    "        x = self.pool1(x)\n",
    "        x = self.conv2(x)\n",
    "        x = self.pool2(x)\n",
    "        x = self.flatten(x)\n",
    "        x = self.dense1(x)\n",
    "        if training:\n",
    "            x = self.dropout(x, training=training)\n",
    "        return self.dense2(x)\n",
    "    \n",
    "class Trainer:\n",
    "    def __init__(self, model):\n",
    "        self.model = model\n",
    "\n",
    "    def compile(self, loss, optimizer, metrics):\n",
    "        self.model.compile(loss=loss, optimizer=optimizer, metrics=metrics)\n",
    "\n",
    "    def train(self, X_train, y_train, epochs, batch_size, validation_split):\n",
    "        self.model.fit(X_train, y_train, epochs=epochs, batch_size=batch_size, validation_split=validation_split)\n",
    "\n",
    "    def evaluate(self, X_test, y_test):\n",
    "        return self.model.evaluate(X_test, y_test)\n",
    "\n"
   ],
   "metadata": {
    "collapsed": false,
    "ExecuteTime": {
     "end_time": "2024-06-16T15:29:07.412176500Z",
     "start_time": "2024-06-16T15:29:07.401159700Z"
    }
   },
   "execution_count": 12,
   "outputs": []
  },
  {
   "cell_type": "code",
   "source": [
    "from keras.src.legacy.preprocessing.image import ImageDataGenerator\n",
    "import tensorflow as tf\n",
    "datagen = ImageDataGenerator(rescale=1./255)\n",
    "for i in range(45):\n",
    "    rest_data , film_data = data_extracts.data_extract ('high_gamma','high_gamma',(i,i),data_extracts.data_fit)\n",
    "    rest_transform = []\n",
    "    film_transform = []\n",
    "    for i in range(rest_data.shape[0]):\n",
    "        rest_transform.append(creat_matrix(rest_data[i]))\n",
    "        film_transform.append(creat_matrix(film_data[i]))\n",
    "    \n",
    "    rest_transform = np.array(rest_transform)\n",
    "    film_transform = np.array(film_transform)\n",
    "    \n",
    "    rest_flow = tf.image.resize(rest_transform, (77,77))\n",
    "    film_flow = tf.image.resize(film_transform, (77,77))\n",
    "    \n",
    "    X_train, X_test, y_train, y_test = test1.data_split(rest_flow, film_flow)\n",
    "    model = CustomCNNModel()\n",
    "    model.compile(loss=\"binary_crossentropy\", optimizer=\"adam\", metrics=[\"accuracy\"])\n",
    "    model.build((32, 77, 77, 1))  # To show the summary, build the model with input shape\n",
    "    model.summary()\n",
    "    \n",
    "    model.fit(X_train, y_train)\n",
    "    score = model.evaluate(X_test, y_test)\n",
    "    print(score)\n",
    "    \n",
    "    \n",
    "    \n"
   ],
   "metadata": {
    "collapsed": false,
    "ExecuteTime": {
     "end_time": "2024-06-16T15:41:08.498487100Z",
     "start_time": "2024-06-16T15:41:08.341211400Z"
    }
   },
   "execution_count": 16,
   "outputs": []
  },
  {
   "cell_type": "code",
   "source": [],
   "metadata": {
    "collapsed": false
   },
   "execution_count": null,
   "outputs": []
  }
 ],
 "metadata": {
  "kernelspec": {
   "display_name": ".venv",
   "language": "python",
   "name": "python3"
  },
  "language_info": {
   "codemirror_mode": {
    "name": "ipython",
    "version": 3
   },
   "file_extension": ".py",
   "mimetype": "text/x-python",
   "name": "python",
   "nbconvert_exporter": "python",
   "pygments_lexer": "ipython3",
   "version": "3.11.9"
  }
 },
 "nbformat": 4,
 "nbformat_minor": 2
}
