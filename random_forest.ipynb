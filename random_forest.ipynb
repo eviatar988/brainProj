{
 "cells": [
  {
   "cell_type": "code",
   "execution_count": 1,
   "metadata": {},
   "outputs": [],
   "source": [
    "import data_extracts\n",
    "import numpy as np\n",
    "\n",
    "import math\n",
    "import os.path as op\n",
    "import os\n",
    "from mne.datasets import sample\n",
    "from patients_matrix import PatientsMatrix\n",
    "from coherence_matrix import CoherenceMatrix\n",
    "from matplotlib import pyplot as plt\n",
    "import numpy as np\n",
    "from scipy.stats import levene, gaussian_kde\n",
    "from scipy.stats import anderson\n",
    "import scipy.stats as stats\n",
    "import data_extracts\n",
    "import numpy as np\n",
    "from sklearn.model_selection import train_test_split\n",
    "from sklearn.preprocessing import StandardScaler\n",
    "from sklearn.neighbors import KNeighborsClassifier\n",
    "from sklearn.metrics import accuracy_score"
   ]
  },
  {
   "cell_type": "code",
   "execution_count": 2,
   "metadata": {},
   "outputs": [
    {
     "name": "stdout",
     "output_type": "stream",
     "text": [
      "(390, 100)\n"
     ]
    }
   ],
   "source": [
    "\n",
    "# Load your data (replace with your data loading method)\n",
    "X = data_extracts.data_trasnform('delta','delta')\n",
    "rest_shape = X[0].shape[0]\n",
    "film_shape = X[1].shape[0]\n",
    "temp = X[1]\n",
    "X= np.append(temp[:rest_shape], X[0], axis=0)\n",
    "#print(X.shape)\n",
    "y = np.zeros(2*rest_shape)\n",
    "y[:rest_shape] = 1\n",
    "print(X.shape)\n"
   ]
  },
  {
   "cell_type": "code",
   "execution_count": 3,
   "metadata": {},
   "outputs": [
    {
     "name": "stdout",
     "output_type": "stream",
     "text": [
      "[1. 0. 1. 0. 0. 0. 0. 0. 0. 1. 0. 0. 1. 0. 1. 0. 0. 1. 1. 1. 1. 0. 0. 1.\n",
      " 1. 0. 1. 0. 0. 0. 0. 1. 0. 1. 0. 0. 0. 1. 1. 1. 1. 0. 1. 0. 0. 1. 1. 0.\n",
      " 1. 1. 1. 0. 0. 1. 1. 1. 1. 0. 1. 1. 1. 0. 0. 0. 1. 1. 1. 1. 1. 0. 0. 0.\n",
      " 1. 0. 1. 1. 1. 0.]\n"
     ]
    }
   ],
   "source": [
    "from sklearn.ensemble import RandomForestClassifier\n",
    "# הגדרת נתונים\n",
    "#X = np.random.rand(100, 100)  # מערך נתונים עם 100 דוגמאות ו-100 תכונות\n",
    "X_train, X_test, y_train, y_test = train_test_split(X, y, test_size=0.2, random_state=42)\n",
    "# הגדרת מודל Random Forest\n",
    "model = RandomForestClassifier(n_estimators=100, max_depth=5)  # 100 עצים, עומק מקסימלי 5\n",
    "\n",
    "# אימון המודל\n",
    "model.fit(X, y)\n",
    "\n",
    "# חיזוי עבור נקודת נתונים חדשה\n",
    "#new_data = np.random.rand(1, 100)  # נקודת נתונים חדשה עם 100 תכונות\n",
    "prediction = model.predict(X_test)  # חיזוי הקטגוריה עבור נקודת נתונים חדשה\n",
    "\n",
    "print(prediction)  # הדפסת החיזוי\n"
   ]
  },
  {
   "cell_type": "code",
   "execution_count": 4,
   "metadata": {},
   "outputs": [
    {
     "name": "stdout",
     "output_type": "stream",
     "text": [
      "Accuracy: 0.8718\n"
     ]
    }
   ],
   "source": [
    "accuracy = accuracy_score(y_test, prediction)\n",
    "print(f\"Accuracy: {accuracy:.4f}\")"
   ]
  }
 ],
 "metadata": {
  "kernelspec": {
   "display_name": ".venv",
   "language": "python",
   "name": "python3"
  },
  "language_info": {
   "codemirror_mode": {
    "name": "ipython",
    "version": 3
   },
   "file_extension": ".py",
   "mimetype": "text/x-python",
   "name": "python",
   "nbconvert_exporter": "python",
   "pygments_lexer": "ipython3",
   "version": "3.11.9"
  }
 },
 "nbformat": 4,
 "nbformat_minor": 2
}
