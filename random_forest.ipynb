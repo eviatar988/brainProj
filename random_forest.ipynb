{
 "cells": [
  {
   "cell_type": "code",
   "execution_count": null,
   "metadata": {},
   "outputs": [],
   "source": [
    "import data_extracts\n",
    "\n",
    "def main():\n",
    "    data_extracts.extract_data()\n",
    "    "
   ]
  },
  {
   "cell_type": "code",
   "execution_count": 1,
   "metadata": {},
   "outputs": [
    {
     "name": "stdout",
     "output_type": "stream",
     "text": [
      "[1]\n"
     ]
    }
   ],
   "source": [
    "import numpy as np\n",
    "from sklearn.ensemble import RandomForestClassifier\n",
    "# הגדרת נתונים\n",
    "X = np.random.rand(100, 100)  # מערך נתונים עם 100 דוגמאות ו-100 תכונות\n",
    "y = np.random.randint(0, 2, 100)  # מערך תוויות עם 2 קטגוריות\n",
    "\n",
    "# הגדרת מודל Random Forest\n",
    "model = RandomForestClassifier(n_estimators=100, max_depth=5)  # 100 עצים, עומק מקסימלי 5\n",
    "\n",
    "# אימון המודל\n",
    "model.fit(X, y)\n",
    "\n",
    "# חיזוי עבור נקודת נתונים חדשה\n",
    "new_data = np.random.rand(1, 100)  # נקודת נתונים חדשה עם 100 תכונות\n",
    "prediction = model.predict(new_data)  # חיזוי הקטגוריה עבור נקודת נתונים חדשה\n",
    "\n",
    "print(prediction)  # הדפסת החיזוי\n"
   ]
  }
 ],
 "metadata": {
  "kernelspec": {
   "display_name": ".venv",
   "language": "python",
   "name": "python3"
  },
  "language_info": {
   "codemirror_mode": {
    "name": "ipython",
    "version": 3
   },
   "file_extension": ".py",
   "mimetype": "text/x-python",
   "name": "python",
   "nbconvert_exporter": "python",
   "pygments_lexer": "ipython3",
   "version": "3.11.9"
  }
 },
 "nbformat": 4,
 "nbformat_minor": 2
}
