{
 "cells": [
  {
   "cell_type": "code",
   "execution_count": 1,
   "metadata": {
    "ExecuteTime": {
     "end_time": "2024-06-02T16:29:08.132726900Z",
     "start_time": "2024-06-02T16:29:06.875357200Z"
    }
   },
   "outputs": [],
   "source": [
    "import data_extracts\n",
    "import numpy as np\n",
    "\n",
    "import math\n",
    "import os.path as op\n",
    "import os\n",
    "from mne.datasets import sample\n",
    "from patients_matrix import PatientsMatrix\n",
    "from coherence_matrix import CoherenceMatrix\n",
    "from matplotlib import pyplot as plt\n",
    "import numpy as np\n",
    "from scipy.stats import levene, gaussian_kde\n",
    "from scipy.stats import anderson\n",
    "import scipy.stats as stats\n",
    "import data_extracts\n",
    "import numpy as np\n",
    "from sklearn.model_selection import train_test_split\n",
    "from sklearn.preprocessing import StandardScaler\n",
    "from sklearn.neighbors import KNeighborsClassifier\n",
    "from sklearn.metrics import accuracy_score"
   ]
  },
  {
   "cell_type": "code",
   "execution_count": 2,
   "metadata": {
    "ExecuteTime": {
     "end_time": "2024-06-02T16:29:08.368510500Z",
     "start_time": "2024-06-02T16:29:08.132227100Z"
    }
   },
   "outputs": [
    {
     "ename": "TypeError",
     "evalue": "data_trasnform() missing 4 required positional arguments: 'first_p', 'last_p', 'rest_func', and 'film_func'",
     "output_type": "error",
     "traceback": [
      "\u001B[1;31m---------------------------------------------------------------------------\u001B[0m",
      "\u001B[1;31mTypeError\u001B[0m                                 Traceback (most recent call last)",
      "Cell \u001B[1;32mIn[2], line 2\u001B[0m\n\u001B[0;32m      1\u001B[0m \u001B[38;5;66;03m# Load your data (replace with your data loading method)\u001B[39;00m\n\u001B[1;32m----> 2\u001B[0m X \u001B[38;5;241m=\u001B[39m \u001B[43mdata_extracts\u001B[49m\u001B[38;5;241;43m.\u001B[39;49m\u001B[43mdata_trasnform\u001B[49m\u001B[43m(\u001B[49m\u001B[38;5;124;43m'\u001B[39;49m\u001B[38;5;124;43mdelta\u001B[39;49m\u001B[38;5;124;43m'\u001B[39;49m\u001B[43m,\u001B[49m\u001B[38;5;124;43m'\u001B[39;49m\u001B[38;5;124;43mdelta\u001B[39;49m\u001B[38;5;124;43m'\u001B[39;49m\u001B[43m)\u001B[49m\n\u001B[0;32m      3\u001B[0m rest_shape \u001B[38;5;241m=\u001B[39m X[\u001B[38;5;241m0\u001B[39m]\u001B[38;5;241m.\u001B[39mshape[\u001B[38;5;241m0\u001B[39m]\n\u001B[0;32m      4\u001B[0m film_shape \u001B[38;5;241m=\u001B[39m X[\u001B[38;5;241m1\u001B[39m]\u001B[38;5;241m.\u001B[39mshape[\u001B[38;5;241m0\u001B[39m]\n",
      "\u001B[1;31mTypeError\u001B[0m: data_trasnform() missing 4 required positional arguments: 'first_p', 'last_p', 'rest_func', and 'film_func'"
     ]
    }
   ],
   "source": [
    "\n",
    "# Load your data (replace with your data loading method)\n",
    "X = data_extracts.data_trasnform('delta','delta')\n",
    "rest_shape = X[0].shape[0]\n",
    "film_shape = X[1].shape[0]\n",
    "temp = X[1]\n",
    "X= np.append(temp[:rest_shape], X[0], axis=0)\n",
    "#print(X.shape)\n",
    "y = np.zeros(2*rest_shape)\n",
    "y[:rest_shape] = 1\n",
    "print(X.shape)\n"
   ]
  },
  {
   "cell_type": "code",
   "execution_count": null,
   "metadata": {
    "ExecuteTime": {
     "start_time": "2024-06-02T16:29:08.368510500Z"
    }
   },
   "outputs": [],
   "source": [
    "from sklearn.ensemble import RandomForestClassifier\n",
    "# הגדרת נתונים\n",
    "#X = np.random.rand(100, 100)  # מערך נתונים עם 100 דוגמאות ו-100 תכונות\n",
    "X_train, X_test, y_train, y_test = train_test_split(X, y, test_size=0.2, random_state=42)\n",
    "# הגדרת מודל Random Forest\n",
    "model = RandomForestClassifier(n_estimators=100, max_depth=5)  # 100 עצים, עומק מקסימלי 5\n",
    "\n",
    "# אימון המודל\n",
    "#model.fit(X, y)\n",
    "\n",
    "model.fit(X_train, epochs=20 , validation_data=y_test )\n",
    "\n",
    "# חיזוי עבור נקודת נתונים חדשה\n",
    "#new_data = np.random.rand(1, 100)  # נקודת נתונים חדשה עם 100 תכונות\n",
    "prediction = model.predict(X_test)  # חיזוי הקטגוריה עבור נקודת נתונים חדשה\n",
    "\n",
    "print(prediction)  # הדפסת החיזוי\n"
   ]
  },
  {
   "cell_type": "code",
   "execution_count": null,
   "metadata": {
    "ExecuteTime": {
     "end_time": "2024-06-02T16:29:08.370513600Z",
     "start_time": "2024-06-02T16:29:08.369010900Z"
    }
   },
   "outputs": [],
   "source": [
    "accuracy = accuracy_score(y_test, prediction)\n",
    "print(f\"Accuracy: {accuracy:.4f}\")"
   ]
  },
  {
   "cell_type": "code",
   "outputs": [],
   "source": [],
   "metadata": {
    "collapsed": false
   }
  }
 ],
 "metadata": {
  "kernelspec": {
   "display_name": ".venv",
   "language": "python",
   "name": "python3"
  },
  "language_info": {
   "codemirror_mode": {
    "name": "ipython",
    "version": 3
   },
   "file_extension": ".py",
   "mimetype": "text/x-python",
   "name": "python",
   "nbconvert_exporter": "python",
   "pygments_lexer": "ipython3",
   "version": "3.11.9"
  }
 },
 "nbformat": 4,
 "nbformat_minor": 2
}
