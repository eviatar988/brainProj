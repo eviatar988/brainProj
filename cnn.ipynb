{
 "cells": [
  {
   "cell_type": "code",
   "execution_count": 1,
   "metadata": {},
   "source": [
    "import math\n",
    "import os.path as op\n",
    "import mne_bids\n",
    "from mne.datasets import sample\n",
    "import data_extracts\n",
    "from data_extracts import read_file_film , read_file_rest\n",
    "from patients_matrix import PatientsMatrix\n",
    "from coherence_matrix import CoherenceMatrix\n",
    "from matplotlib import pyplot as plt\n",
    "import numpy as np\n",
    "from scipy.stats import levene, gaussian_kde\n",
    "from scipy.stats import anderson\n",
    "import scipy.stats as stats\n",
    "import test1\n",
    "import cv2\n",
    "from tqdm import tqdm"
   ],
   "outputs": []
  },
  {
   "cell_type": "code",
   "execution_count": 2,
   "metadata": {},
   "source": [
    "def show_me_matrix(matrix_flat, name):\n",
    "    matrix_len = int(math.sqrt(2*len(matrix_flat)+1/4)+1/2)\n",
    "    matrix = np.zeros(shape=(matrix_len,matrix_len),dtype=float)\n",
    "    index = 0\n",
    "    for i in range(matrix_len):\n",
    "        for j in range(i,matrix_len):\n",
    "            if i == j:\n",
    "                matrix[i, j] = 1\n",
    "            else:\n",
    "                matrix[i, j] = matrix_flat[index]\n",
    "                matrix[j, i] = matrix_flat[index]\n",
    "                index += 1\n",
    "    plt.imshow(matrix, cmap='viridis')\n",
    "    plt.title(name)\n",
    "    plt.colorbar()\n",
    "    plt.show()\n",
    "    \n",
    "    \n",
    "def creat_matrix(matrix_flat):\n",
    "    matrix_len = int(math.sqrt(2*len(matrix_flat)+1/4)+1/2)\n",
    "    matrix = np.zeros(shape=(matrix_len,matrix_len),dtype=float)\n",
    "    index = 0\n",
    "    for i in range(matrix_len):\n",
    "        for j in range(i,matrix_len):\n",
    "            if i == j:\n",
    "                matrix[i, j] = 1\n",
    "            else:\n",
    "                matrix[i, j] = matrix_flat[index]\n",
    "                matrix[j, i] = matrix_flat[index]\n",
    "                index += 1    \n",
    "    return matrix\n",
    "    "
   ],
   "outputs": []
  },
  {
   "cell_type": "code",
   "execution_count": 3,
   "metadata": {},
   "source": [
    "rest_data , film_data = data_extracts.data_trasnform ('high_gamma','high_gamma',2,1,rest_func=read_file_rest,film_func=read_file_film)"
   ],
   "outputs": []
  },
  {
   "cell_type": "code",
   "execution_count": 4,
   "metadata": {},
   "source": [
    "arr = creat_matrix(rest_data[90])\n",
    "plt.imshow(arr, cmap='viridis')\n",
    "plt.colorbar()\n",
    "plt.show()\n"
   ],
   "outputs": []
  },
  {
   "cell_type": "code",
   "execution_count": 5,
   "metadata": {},
   "source": [
    "rest_data.shape"
   ],
   "outputs": []
  },
  {
   "cell_type": "code",
   "execution_count": null,
   "metadata": {},
   "source": [
    "#save the matrix as jpg\n",
    "\n",
    "\n",
    "for i in range(rest_data.shape[0]):\n",
    "    if i%5 == 0:\n",
    "        print(' sec:',i)\n",
    "        rest_mat = creat_matrix(rest_data[i])\n",
    "        cv2.imwrite('cnn_rest_test/rest_sec='+str(i)+'.jpg',rest_mat*255)\n",
    "\n",
    "        film_mat = creat_matrix(film_data[i])\n",
    "        cv2.imwrite('cnn_film_test/film_sec='+str(i)+'.jpg',film_mat*255)\n",
    "    else:\n",
    "        print(' sec:',i)\n",
    "        rest_mat = creat_matrix(rest_data[i])\n",
    "        cv2.imwrite('rest_cnn/rest_sec='+str(i)+'.jpg',rest_mat*255)\n",
    "\n",
    "        film_mat = creat_matrix(film_data[i])\n",
    "        cv2.imwrite('film_cnn/film_sec='+str(i)+'.jpg',film_mat*255)\n",
    "    "
   ],
   "outputs": []
  },
  {
   "cell_type": "code",
   "execution_count": 35,
   "metadata": {},
   "source": [
    "from tensorflow import keras\n",
    "from keras import Sequential\n",
    "from keras import layers\n",
    "\n",
    "model = Sequential()\n",
    "\n",
    "model.add(layers.Conv2D(filters=32, kernel_size=(3,3),input_shape=(70,70,1), activation='relu',))\n",
    "model.add(layers.MaxPooling2D(pool_size=(1, 1)))\n",
    "\n",
    "model.add(layers.Conv2D(filters=64, kernel_size=(3,3),input_shape=(70,70,1), activation='relu',))\n",
    "model.add(layers.MaxPooling2D(pool_size=(1, 1)))\n",
    "\n",
    "model.add(layers.Conv2D(filters=64, kernel_size=(3,3),input_shape=(70,70,1), activation='relu',))\n",
    "model.add(layers.MaxPooling2D(pool_size=(1, 1)))\n",
    "\n",
    "model.add(layers.Flatten())\n",
    "model.add(layers.Dense(128))\n",
    "model.add(layers.Activation('relu'))\n",
    "\n",
    "model.add(layers.Dropout(0.5))# Dropout is a Regularization technique where we randomly set neurons in a layer to zero. This helps avoid overfitting \n",
    "\n",
    "model.add(layers.Dense(1, activation='sigmoid'))\n",
    "\n",
    "model.compile(loss='binary_crossentropy' , optimizer='adam', metrics=['accuracy'])\n",
    "model.summary()"
   ],
   "outputs": []
  },
  {
   "cell_type": "code",
   "execution_count": 36,
   "metadata": {},
   "source": [
    "# train the model\n",
    "from keras.src.legacy.preprocessing.image import ImageDataGenerator\n",
    "\n",
    "train_datagen = ImageDataGenerator()\n",
    "test_datagen = ImageDataGenerator()\n",
    "\n",
    "train_data = train_datagen.flow_from_directory('cnn/train', target_size=(77,77,1), batch_size=8, class_mode='binary')\n",
    "test_data = test_datagen.flow_from_directory('cnn/test', target_size=(77,77,1), batch_size=8, class_mode='binary')\n",
    "\n",
    "model.fit(train_data, epochs=30)\n",
    "\n",
    "\n",
    "\n"
   ],
   "outputs": []
  },
  {
   "cell_type": "code",
   "execution_count": 33,
   "metadata": {},
   "source": [
    "train_data.class_indices\n"
   ],
   "outputs": []
  },
  {
   "cell_type": "code",
   "execution_count": 34,
   "metadata": {},
   "source": [
    "# accuracy\n",
    "test_loss, test_acc = model.evaluate(test_data, verbose=2)\n",
    "print('\\nTest accuracy:', test_acc)\n"
   ],
   "outputs": []
  },
  {
   "cell_type": "code",
   "execution_count": 31,
   "metadata": {},
   "source": [
    "sample = cv2.imread('cnn/train/film/film_sec=0.jpg')\n",
    "sample = cv2.cvtColor(sample, cv2.COLOR_BGR2RGB)\n",
    "plt.imshow(sample)\n",
    "plt.show()"
   ],
   "outputs": []
  }
 ],
 "metadata": {
  "kernelspec": {
   "display_name": ".venv",
   "language": "python",
   "name": "python3"
  },
  "language_info": {
   "codemirror_mode": {
    "name": "ipython",
    "version": 3
   },
   "file_extension": ".py",
   "mimetype": "text/x-python",
   "name": "python",
   "nbconvert_exporter": "python",
   "pygments_lexer": "ipython3",
   "version": "3.11.9"
  }
 },
 "nbformat": 4,
 "nbformat_minor": 2
}
