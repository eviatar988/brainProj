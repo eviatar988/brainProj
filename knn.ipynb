{
 "cells": [
  {
   "cell_type": "code",
   "execution_count": 1,
   "metadata": {},
   "outputs": [],
   "source": [
    "import math\n",
    "import os.path as op\n",
    "import os\n",
    "from mne.datasets import sample\n",
    "from patients_matrix import PatientsMatrix\n",
    "from coherence_matrix import CoherenceMatrix\n",
    "from matplotlib import pyplot as plt\n",
    "import numpy as np\n",
    "from scipy.stats import levene, gaussian_kde\n",
    "from scipy.stats import anderson\n",
    "import scipy.stats as stats\n",
    "import data_extracts"
   ]
  },
  {
   "cell_type": "code",
   "execution_count": 5,
   "metadata": {},
   "outputs": [
    {
     "name": "stdout",
     "output_type": "stream",
     "text": [
      "['02_rest_matrixs.npz', '03_rest_matrixs.npz', '05_rest_matrixs.npz', '06_rest_matrixs.npz', '07_rest_matrixs.npz', '10_rest_matrixs.npz', '12_rest_matrixs.npz', '13_rest_matrixs.npz', '14_rest_matrixs.npz', '16_rest_matrixs.npz', '17_rest_matrixs.npz', '18_rest_matrixs.npz', '19_rest_matrixs.npz', '20_rest_matrixs.npz', '22_rest_matrixs.npz', '24_rest_matrixs.npz', '25_rest_matrixs.npz', '26_rest_matrixs.npz', '27_rest_matrixs.npz', '28_rest_matrixs.npz', '30_rest_matrixs.npz', '31_rest_matrixs.npz', '32_rest_matrixs.npz', '34_rest_matrixs.npz', '36_rest_matrixs.npz', '37_rest_matrixs.npz', '38_rest_matrixs.npz', '39_rest_matrixs.npz', '40_rest_matrixs.npz', '41_rest_matrixs.npz', '43_rest_matrixs.npz', '45_rest_matrixs.npz', '46_rest_matrixs.npz', '48_rest_matrixs.npz', '49_rest_matrixs.npz', '50_rest_matrixs.npz', '51_rest_matrixs.npz', '54_rest_matrixs.npz', '55_rest_matrixs.npz', '57_rest_matrixs.npz', '58_rest_matrixs.npz', '59_rest_matrixs.npz', '60_rest_matrixs.npz', '61_rest_matrixs.npz', '63_rest_matrixs.npz']\n",
      "['02_film_matrixs.npz', '03_film_matrixs.npz', '05_film_matrixs.npz', '06_film_matrixs.npz', '07_film_matrixs.npz', '10_film_matrixs.npz', '12_film_matrixs.npz', '13_film_matrixs.npz', '14_film_matrixs.npz', '16_film_matrixs.npz', '17_film_matrixs.npz', '18_film_matrixs.npz', '19_film_matrixs.npz', '20_film_matrixs.npz', '22_film_matrixs.npz', '24_film_matrixs.npz', '25_film_matrixs.npz', '26_film_matrixs.npz', '27_film_matrixs.npz', '28_film_matrixs.npz', '30_film_matrixs.npz', '31_film_matrixs.npz', '32_film_matrixs.npz', '34_film_matrixs.npz', '36_film_matrixs.npz', '37_film_matrixs.npz', '38_film_matrixs.npz', '39_film_matrixs.npz', '40_film_matrixs.npz', '41_film_matrixs.npz', '43_film_matrixs.npz', '45_film_matrixs.npz', '46_film_matrixs.npz', '48_film_matrixs.npz', '49_film_matrixs.npz', '50_film_matrixs.npz', '51_film_matrixs.npz', '54_film_matrixs.npz', '55_film_matrixs.npz', '57_film_matrixs.npz', '58_film_matrixs.npz', '59_film_matrixs.npz', '60_film_matrixs.npz', '61_film_matrixs.npz', '63_film_matrixs.npz']\n",
      "Accuracy: 0.9474\n"
     ]
    }
   ],
   "source": [
    "import numpy as np\n",
    "from sklearn.model_selection import train_test_split\n",
    "from sklearn.preprocessing import StandardScaler\n",
    "from sklearn.neighbors import KNeighborsClassifier\n",
    "\n",
    "# Load your data (replace with your data loading method)\n",
    "X = data_extracts.data_trasnform('beta','theta')\n",
    "y = np.zeros(X[0].shape[0]+X[1].shape[0])\n",
    "y[:X[1].shape[0]] = 1\n",
    "X = np.append(X[1],X[0],axis=0)\n",
    "\n",
    "# Split data into training and testing sets (80% training, 20% testing)\n",
    "X_train, X_test, y_train, y_test = train_test_split(X, y, test_size=0.2, random_state=42)\n",
    "\n",
    "# Feature scaling (optional, but recommended)\n",
    "scaler = StandardScaler()\n",
    "X_train_scaled = scaler.fit_transform(X_train)\n",
    "X_test_scaled = scaler.transform(X_test)\n",
    "\n",
    "# Create the KNN model\n",
    "knn = KNeighborsClassifier(n_neighbors=2, metric='euclidean')  # Adjust k and metric as needed\n",
    "\n",
    "# Train the KNN model\n",
    "knn.fit(X_train_scaled, y_train)\n",
    "\n",
    "# Make predictions on the test set\n",
    "y_pred = knn.predict(X_test_scaled)\n",
    "\n",
    "# Evaluate the model performance (replace with desired metrics)\n",
    "from sklearn.metrics import accuracy_score\n",
    "\n",
    "accuracy = accuracy_score(y_test, y_pred)\n",
    "print(f\"Accuracy: {accuracy:.4f}\")\n"
   ]
  }
 ],
 "metadata": {
  "kernelspec": {
   "display_name": "Python 3",
   "language": "python",
   "name": "python3"
  },
  "language_info": {
   "codemirror_mode": {
    "name": "ipython",
    "version": 3
   },
   "file_extension": ".py",
   "mimetype": "text/x-python",
   "name": "python",
   "nbconvert_exporter": "python",
   "pygments_lexer": "ipython3",
   "version": "3.12.1"
  }
 },
 "nbformat": 4,
 "nbformat_minor": 2
}
